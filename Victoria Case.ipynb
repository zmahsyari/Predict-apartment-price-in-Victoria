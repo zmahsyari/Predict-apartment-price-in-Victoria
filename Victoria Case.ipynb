{
 "cells": [
  {
   "cell_type": "markdown",
   "metadata": {},
   "source": [
    "# Mid-test: Python Use Case (Victoria Case)\n",
    "\n",
    "\n",
    "\n",
    "##### Zumarsiyah Mahsyari\n",
    "##### Astra Data Scientist Bootcamp"
   ]
  },
  {
   "cell_type": "markdown",
   "metadata": {},
   "source": [
    "**Dataset** : Apartment Price in Victoria. \n",
    "\n",
    "You can download it here.\n",
    "https://drive.google.com/open?id=1j8TdXtCnEQlqn2esDbiuPay01pDooS-w\n",
    "\n",
    "**Background** : The Dataset provides living area and conservation status.\n",
    "There are 218 observations and 16 variables.\n",
    "\n",
    "**Objective** : Create a python script for the Use Case below, please upload the script after you finish.\n",
    "The Problem is to determine the best model and give the reason.\n",
    "\n",
    "Tony who has profession as a broker wants to predict apartment price in Victoria based on living area environment and apartment conservation status. Determine the best model to predict and redefine new conservation variable in 3 level, A = 1A, B = 2A, C = 2B and 3A.\n",
    "\n",
    "**Instructions** :\n",
    "Download the dataset as a CSV file and place it in your current working directory with the filename \"victoria.csv\".\n",
    "\n",
    "\n",
    "1. Import Dataset: Load the dataset.\n",
    "2. Exploratory Data Analysis: Create summary of the dataset, with python function. (mean, median, modus, max, min, range)\n",
    "3. Data Visualization: Create any kind suitable plot of dataset, it will provide a lot of insight into the problem.\n",
    "4. Variable Selection: Choose the variable and its reason.\n",
    "5. Modelling: Create models using Regression\n",
    "6. Accuracy or Error: Calculate the Error using the helper function from the library, from dataset only"
   ]
  },
  {
   "cell_type": "markdown",
   "metadata": {},
   "source": [
    " ### Import Dataset: Load the dataset."
   ]
  },
  {
   "cell_type": "code",
   "execution_count": 1,
   "metadata": {},
   "outputs": [],
   "source": [
    "import pandas as pd\n",
    "import numpy as np\n",
    "import matplotlib.pyplot as plt\n",
    "import seaborn as sns"
   ]
  },
  {
   "cell_type": "markdown",
   "metadata": {},
   "source": [
    "Load and read data can be done with the following steps."
   ]
  },
  {
   "cell_type": "code",
   "execution_count": 2,
   "metadata": {},
   "outputs": [
    {
     "data": {
      "text/html": [
       "<div>\n",
       "<style scoped>\n",
       "    .dataframe tbody tr th:only-of-type {\n",
       "        vertical-align: middle;\n",
       "    }\n",
       "\n",
       "    .dataframe tbody tr th {\n",
       "        vertical-align: top;\n",
       "    }\n",
       "\n",
       "    .dataframe thead th {\n",
       "        text-align: right;\n",
       "    }\n",
       "</style>\n",
       "<table border=\"1\" class=\"dataframe\">\n",
       "  <thead>\n",
       "    <tr style=\"text-align: right;\">\n",
       "      <th></th>\n",
       "      <th>row.labels</th>\n",
       "      <th>totalprice</th>\n",
       "      <th>area</th>\n",
       "      <th>zone</th>\n",
       "      <th>category</th>\n",
       "      <th>age</th>\n",
       "      <th>floor</th>\n",
       "      <th>rooms</th>\n",
       "      <th>out</th>\n",
       "      <th>conservation</th>\n",
       "      <th>toilets</th>\n",
       "      <th>garage</th>\n",
       "      <th>elevator</th>\n",
       "      <th>streetcategory</th>\n",
       "      <th>heating</th>\n",
       "      <th>tras</th>\n",
       "    </tr>\n",
       "  </thead>\n",
       "  <tbody>\n",
       "    <tr>\n",
       "      <th>0</th>\n",
       "      <td>1</td>\n",
       "      <td>228000</td>\n",
       "      <td>7530999756</td>\n",
       "      <td>Z45</td>\n",
       "      <td>4B</td>\n",
       "      <td>33</td>\n",
       "      <td>3</td>\n",
       "      <td>5</td>\n",
       "      <td>E100</td>\n",
       "      <td>2B</td>\n",
       "      <td>1</td>\n",
       "      <td>0</td>\n",
       "      <td>1</td>\n",
       "      <td>S3</td>\n",
       "      <td>3A</td>\n",
       "      <td>0</td>\n",
       "    </tr>\n",
       "    <tr>\n",
       "      <th>1</th>\n",
       "      <td>2</td>\n",
       "      <td>409000</td>\n",
       "      <td>1006500015</td>\n",
       "      <td>Z31</td>\n",
       "      <td>3B</td>\n",
       "      <td>5</td>\n",
       "      <td>7</td>\n",
       "      <td>5</td>\n",
       "      <td>E50</td>\n",
       "      <td>1A</td>\n",
       "      <td>2</td>\n",
       "      <td>1</td>\n",
       "      <td>1</td>\n",
       "      <td>S5</td>\n",
       "      <td>4A</td>\n",
       "      <td>1</td>\n",
       "    </tr>\n",
       "    <tr>\n",
       "      <th>2</th>\n",
       "      <td>3</td>\n",
       "      <td>200000</td>\n",
       "      <td>8887000275</td>\n",
       "      <td>Z52</td>\n",
       "      <td>3A</td>\n",
       "      <td>14</td>\n",
       "      <td>8</td>\n",
       "      <td>5</td>\n",
       "      <td>E50</td>\n",
       "      <td>1A</td>\n",
       "      <td>2</td>\n",
       "      <td>0</td>\n",
       "      <td>1</td>\n",
       "      <td>S2</td>\n",
       "      <td>3A</td>\n",
       "      <td>0</td>\n",
       "    </tr>\n",
       "    <tr>\n",
       "      <th>3</th>\n",
       "      <td>4</td>\n",
       "      <td>180000</td>\n",
       "      <td>6261000061</td>\n",
       "      <td>Z62</td>\n",
       "      <td>4A</td>\n",
       "      <td>41</td>\n",
       "      <td>3</td>\n",
       "      <td>4</td>\n",
       "      <td>E50</td>\n",
       "      <td>2A</td>\n",
       "      <td>1</td>\n",
       "      <td>0</td>\n",
       "      <td>0</td>\n",
       "      <td>S3</td>\n",
       "      <td>1A</td>\n",
       "      <td>0</td>\n",
       "    </tr>\n",
       "    <tr>\n",
       "      <th>4</th>\n",
       "      <td>5</td>\n",
       "      <td>443600</td>\n",
       "      <td>1461499939</td>\n",
       "      <td>Z31</td>\n",
       "      <td>3A</td>\n",
       "      <td>22</td>\n",
       "      <td>6</td>\n",
       "      <td>7</td>\n",
       "      <td>E100</td>\n",
       "      <td>1A</td>\n",
       "      <td>2</td>\n",
       "      <td>0</td>\n",
       "      <td>1</td>\n",
       "      <td>S4</td>\n",
       "      <td>4A</td>\n",
       "      <td>1</td>\n",
       "    </tr>\n",
       "  </tbody>\n",
       "</table>\n",
       "</div>"
      ],
      "text/plain": [
       "   row.labels totalprice        area zone category  age  floor  rooms   out  \\\n",
       "0           1     228000  7530999756  Z45       4B   33      3      5  E100   \n",
       "1           2     409000  1006500015  Z31       3B    5      7      5   E50   \n",
       "2           3     200000  8887000275  Z52       3A   14      8      5   E50   \n",
       "3           4     180000  6261000061  Z62       4A   41      3      4   E50   \n",
       "4           5     443600  1461499939  Z31       3A   22      6      7  E100   \n",
       "\n",
       "  conservation  toilets  garage  elevator streetcategory heating  tras  \n",
       "0           2B        1       0         1             S3      3A     0  \n",
       "1           1A        2       1         1             S5      4A     1  \n",
       "2           1A        2       0         1             S2      3A     0  \n",
       "3           2A        1       0         0             S3      1A     0  \n",
       "4           1A        2       0         1             S4      4A     1  "
      ]
     },
     "execution_count": 2,
     "metadata": {},
     "output_type": "execute_result"
    }
   ],
   "source": [
    "df = pd.read_csv(\"C:/Users/zumars064124/Documents/ADSB 2/Midtest/victoria.csv\")\n",
    "df.head()"
   ]
  },
  {
   "cell_type": "markdown",
   "metadata": {},
   "source": [
    "### Exploratory Data Analysis: Create summary of the dataset, with python function. (mean, median, modus, max, min, range)"
   ]
  },
  {
   "cell_type": "markdown",
   "metadata": {},
   "source": [
    "The data read is still not ready to be processed. Before we switch to EDA, we first do preprocessing data. The data preprocessing is done, including deleting unnecessary columns, cleansing data, updating the data (redefine conservation status), and making sure the data type is correct."
   ]
  },
  {
   "cell_type": "code",
   "execution_count": 3,
   "metadata": {},
   "outputs": [
    {
     "data": {
      "text/html": [
       "<div>\n",
       "<style scoped>\n",
       "    .dataframe tbody tr th:only-of-type {\n",
       "        vertical-align: middle;\n",
       "    }\n",
       "\n",
       "    .dataframe tbody tr th {\n",
       "        vertical-align: top;\n",
       "    }\n",
       "\n",
       "    .dataframe thead th {\n",
       "        text-align: right;\n",
       "    }\n",
       "</style>\n",
       "<table border=\"1\" class=\"dataframe\">\n",
       "  <thead>\n",
       "    <tr style=\"text-align: right;\">\n",
       "      <th></th>\n",
       "      <th>totalprice</th>\n",
       "      <th>area</th>\n",
       "      <th>zone</th>\n",
       "      <th>category</th>\n",
       "      <th>age</th>\n",
       "      <th>floor</th>\n",
       "      <th>rooms</th>\n",
       "      <th>out</th>\n",
       "      <th>conservation</th>\n",
       "      <th>toilets</th>\n",
       "      <th>garage</th>\n",
       "      <th>elevator</th>\n",
       "      <th>streetcategory</th>\n",
       "      <th>heating</th>\n",
       "      <th>tras</th>\n",
       "    </tr>\n",
       "  </thead>\n",
       "  <tbody>\n",
       "    <tr>\n",
       "      <th>0</th>\n",
       "      <td>228000</td>\n",
       "      <td>7530999756</td>\n",
       "      <td>Z45</td>\n",
       "      <td>4B</td>\n",
       "      <td>33</td>\n",
       "      <td>3</td>\n",
       "      <td>5</td>\n",
       "      <td>E100</td>\n",
       "      <td>2B</td>\n",
       "      <td>1</td>\n",
       "      <td>0</td>\n",
       "      <td>1</td>\n",
       "      <td>S3</td>\n",
       "      <td>3A</td>\n",
       "      <td>0</td>\n",
       "    </tr>\n",
       "    <tr>\n",
       "      <th>1</th>\n",
       "      <td>409000</td>\n",
       "      <td>1006500015</td>\n",
       "      <td>Z31</td>\n",
       "      <td>3B</td>\n",
       "      <td>5</td>\n",
       "      <td>7</td>\n",
       "      <td>5</td>\n",
       "      <td>E50</td>\n",
       "      <td>1A</td>\n",
       "      <td>2</td>\n",
       "      <td>1</td>\n",
       "      <td>1</td>\n",
       "      <td>S5</td>\n",
       "      <td>4A</td>\n",
       "      <td>1</td>\n",
       "    </tr>\n",
       "    <tr>\n",
       "      <th>2</th>\n",
       "      <td>200000</td>\n",
       "      <td>8887000275</td>\n",
       "      <td>Z52</td>\n",
       "      <td>3A</td>\n",
       "      <td>14</td>\n",
       "      <td>8</td>\n",
       "      <td>5</td>\n",
       "      <td>E50</td>\n",
       "      <td>1A</td>\n",
       "      <td>2</td>\n",
       "      <td>0</td>\n",
       "      <td>1</td>\n",
       "      <td>S2</td>\n",
       "      <td>3A</td>\n",
       "      <td>0</td>\n",
       "    </tr>\n",
       "    <tr>\n",
       "      <th>3</th>\n",
       "      <td>180000</td>\n",
       "      <td>6261000061</td>\n",
       "      <td>Z62</td>\n",
       "      <td>4A</td>\n",
       "      <td>41</td>\n",
       "      <td>3</td>\n",
       "      <td>4</td>\n",
       "      <td>E50</td>\n",
       "      <td>2A</td>\n",
       "      <td>1</td>\n",
       "      <td>0</td>\n",
       "      <td>0</td>\n",
       "      <td>S3</td>\n",
       "      <td>1A</td>\n",
       "      <td>0</td>\n",
       "    </tr>\n",
       "    <tr>\n",
       "      <th>4</th>\n",
       "      <td>443600</td>\n",
       "      <td>1461499939</td>\n",
       "      <td>Z31</td>\n",
       "      <td>3A</td>\n",
       "      <td>22</td>\n",
       "      <td>6</td>\n",
       "      <td>7</td>\n",
       "      <td>E100</td>\n",
       "      <td>1A</td>\n",
       "      <td>2</td>\n",
       "      <td>0</td>\n",
       "      <td>1</td>\n",
       "      <td>S4</td>\n",
       "      <td>4A</td>\n",
       "      <td>1</td>\n",
       "    </tr>\n",
       "  </tbody>\n",
       "</table>\n",
       "</div>"
      ],
      "text/plain": [
       "  totalprice        area zone category  age  floor  rooms   out conservation  \\\n",
       "0     228000  7530999756  Z45       4B   33      3      5  E100           2B   \n",
       "1     409000  1006500015  Z31       3B    5      7      5   E50           1A   \n",
       "2     200000  8887000275  Z52       3A   14      8      5   E50           1A   \n",
       "3     180000  6261000061  Z62       4A   41      3      4   E50           2A   \n",
       "4     443600  1461499939  Z31       3A   22      6      7  E100           1A   \n",
       "\n",
       "   toilets  garage  elevator streetcategory heating  tras  \n",
       "0        1       0         1             S3      3A     0  \n",
       "1        2       1         1             S5      4A     1  \n",
       "2        2       0         1             S2      3A     0  \n",
       "3        1       0         0             S3      1A     0  \n",
       "4        2       0         1             S4      4A     1  "
      ]
     },
     "execution_count": 3,
     "metadata": {},
     "output_type": "execute_result"
    }
   ],
   "source": [
    "#delete unnecessary columns\n",
    "df = df.drop('row.labels', axis=1)\n",
    "df.head()"
   ]
  },
  {
   "cell_type": "code",
   "execution_count": 4,
   "metadata": {
    "scrolled": true
   },
   "outputs": [
    {
     "name": "stdout",
     "output_type": "stream",
     "text": [
      "<class 'pandas.core.frame.DataFrame'>\n",
      "RangeIndex: 218 entries, 0 to 217\n",
      "Data columns (total 15 columns):\n",
      "totalprice        218 non-null object\n",
      "area              218 non-null object\n",
      "zone              218 non-null object\n",
      "category          218 non-null object\n",
      "age               218 non-null int64\n",
      "floor             218 non-null int64\n",
      "rooms             218 non-null int64\n",
      "out               218 non-null object\n",
      "conservation      218 non-null object\n",
      "toilets           218 non-null int64\n",
      "garage            218 non-null int64\n",
      "elevator          218 non-null int64\n",
      "streetcategory    218 non-null object\n",
      "heating           218 non-null object\n",
      "tras              218 non-null int64\n",
      "dtypes: int64(7), object(8)\n",
      "memory usage: 25.6+ KB\n"
     ]
    }
   ],
   "source": [
    "df.info()"
   ]
  },
  {
   "cell_type": "code",
   "execution_count": 5,
   "metadata": {},
   "outputs": [
    {
     "data": {
      "text/plain": [
       "totalprice          188982,2\n",
       "area              5847999954\n",
       "zone                     Z11\n",
       "category                  4B\n",
       "age                       37\n",
       "floor                      4\n",
       "rooms                      4\n",
       "out                      E25\n",
       "conservation              2A\n",
       "toilets                    1\n",
       "garage                     0\n",
       "elevator                   0\n",
       "streetcategory            S4\n",
       "heating                   3A\n",
       "tras                       1\n",
       "Name: 8, dtype: object"
      ]
     },
     "execution_count": 5,
     "metadata": {},
     "output_type": "execute_result"
    }
   ],
   "source": [
    "# found that the data went wrong, then it will be deleted\n",
    "df.loc[8,:]"
   ]
  },
  {
   "cell_type": "code",
   "execution_count": 6,
   "metadata": {},
   "outputs": [
    {
     "data": {
      "text/html": [
       "<div>\n",
       "<style scoped>\n",
       "    .dataframe tbody tr th:only-of-type {\n",
       "        vertical-align: middle;\n",
       "    }\n",
       "\n",
       "    .dataframe tbody tr th {\n",
       "        vertical-align: top;\n",
       "    }\n",
       "\n",
       "    .dataframe thead th {\n",
       "        text-align: right;\n",
       "    }\n",
       "</style>\n",
       "<table border=\"1\" class=\"dataframe\">\n",
       "  <thead>\n",
       "    <tr style=\"text-align: right;\">\n",
       "      <th></th>\n",
       "      <th>totalprice</th>\n",
       "      <th>area</th>\n",
       "      <th>zone</th>\n",
       "      <th>category</th>\n",
       "      <th>age</th>\n",
       "      <th>floor</th>\n",
       "      <th>rooms</th>\n",
       "      <th>out</th>\n",
       "      <th>conservation</th>\n",
       "      <th>toilets</th>\n",
       "      <th>garage</th>\n",
       "      <th>elevator</th>\n",
       "      <th>streetcategory</th>\n",
       "      <th>heating</th>\n",
       "      <th>tras</th>\n",
       "    </tr>\n",
       "  </thead>\n",
       "  <tbody>\n",
       "    <tr>\n",
       "      <th>0</th>\n",
       "      <td>228000</td>\n",
       "      <td>7530999756</td>\n",
       "      <td>Z45</td>\n",
       "      <td>4B</td>\n",
       "      <td>33</td>\n",
       "      <td>3</td>\n",
       "      <td>5</td>\n",
       "      <td>E100</td>\n",
       "      <td>2B</td>\n",
       "      <td>1</td>\n",
       "      <td>0</td>\n",
       "      <td>1</td>\n",
       "      <td>S3</td>\n",
       "      <td>3A</td>\n",
       "      <td>0</td>\n",
       "    </tr>\n",
       "    <tr>\n",
       "      <th>1</th>\n",
       "      <td>409000</td>\n",
       "      <td>1006500015</td>\n",
       "      <td>Z31</td>\n",
       "      <td>3B</td>\n",
       "      <td>5</td>\n",
       "      <td>7</td>\n",
       "      <td>5</td>\n",
       "      <td>E50</td>\n",
       "      <td>1A</td>\n",
       "      <td>2</td>\n",
       "      <td>1</td>\n",
       "      <td>1</td>\n",
       "      <td>S5</td>\n",
       "      <td>4A</td>\n",
       "      <td>1</td>\n",
       "    </tr>\n",
       "    <tr>\n",
       "      <th>2</th>\n",
       "      <td>200000</td>\n",
       "      <td>8887000275</td>\n",
       "      <td>Z52</td>\n",
       "      <td>3A</td>\n",
       "      <td>14</td>\n",
       "      <td>8</td>\n",
       "      <td>5</td>\n",
       "      <td>E50</td>\n",
       "      <td>1A</td>\n",
       "      <td>2</td>\n",
       "      <td>0</td>\n",
       "      <td>1</td>\n",
       "      <td>S2</td>\n",
       "      <td>3A</td>\n",
       "      <td>0</td>\n",
       "    </tr>\n",
       "    <tr>\n",
       "      <th>3</th>\n",
       "      <td>180000</td>\n",
       "      <td>6261000061</td>\n",
       "      <td>Z62</td>\n",
       "      <td>4A</td>\n",
       "      <td>41</td>\n",
       "      <td>3</td>\n",
       "      <td>4</td>\n",
       "      <td>E50</td>\n",
       "      <td>2A</td>\n",
       "      <td>1</td>\n",
       "      <td>0</td>\n",
       "      <td>0</td>\n",
       "      <td>S3</td>\n",
       "      <td>1A</td>\n",
       "      <td>0</td>\n",
       "    </tr>\n",
       "    <tr>\n",
       "      <th>4</th>\n",
       "      <td>443600</td>\n",
       "      <td>1461499939</td>\n",
       "      <td>Z31</td>\n",
       "      <td>3A</td>\n",
       "      <td>22</td>\n",
       "      <td>6</td>\n",
       "      <td>7</td>\n",
       "      <td>E100</td>\n",
       "      <td>1A</td>\n",
       "      <td>2</td>\n",
       "      <td>0</td>\n",
       "      <td>1</td>\n",
       "      <td>S4</td>\n",
       "      <td>4A</td>\n",
       "      <td>1</td>\n",
       "    </tr>\n",
       "  </tbody>\n",
       "</table>\n",
       "</div>"
      ],
      "text/plain": [
       "  totalprice        area zone category  age  floor  rooms   out conservation  \\\n",
       "0     228000  7530999756  Z45       4B   33      3      5  E100           2B   \n",
       "1     409000  1006500015  Z31       3B    5      7      5   E50           1A   \n",
       "2     200000  8887000275  Z52       3A   14      8      5   E50           1A   \n",
       "3     180000  6261000061  Z62       4A   41      3      4   E50           2A   \n",
       "4     443600  1461499939  Z31       3A   22      6      7  E100           1A   \n",
       "\n",
       "   toilets  garage  elevator streetcategory heating  tras  \n",
       "0        1       0         1             S3      3A     0  \n",
       "1        2       1         1             S5      4A     1  \n",
       "2        2       0         1             S2      3A     0  \n",
       "3        1       0         0             S3      1A     0  \n",
       "4        2       0         1             S4      4A     1  "
      ]
     },
     "execution_count": 6,
     "metadata": {},
     "output_type": "execute_result"
    }
   ],
   "source": [
    "df = df.drop([8])\n",
    "df.head()"
   ]
  },
  {
   "cell_type": "code",
   "execution_count": 7,
   "metadata": {},
   "outputs": [
    {
     "name": "stdout",
     "output_type": "stream",
     "text": [
      "<class 'pandas.core.frame.DataFrame'>\n",
      "Int64Index: 217 entries, 0 to 217\n",
      "Data columns (total 15 columns):\n",
      "totalprice        217 non-null object\n",
      "area              217 non-null object\n",
      "zone              217 non-null object\n",
      "category          217 non-null object\n",
      "age               217 non-null int64\n",
      "floor             217 non-null int64\n",
      "rooms             217 non-null int64\n",
      "out               217 non-null object\n",
      "conservation      217 non-null object\n",
      "toilets           217 non-null int64\n",
      "garage            217 non-null int64\n",
      "elevator          217 non-null int64\n",
      "streetcategory    217 non-null object\n",
      "heating           217 non-null object\n",
      "tras              217 non-null int64\n",
      "dtypes: int64(7), object(8)\n",
      "memory usage: 27.1+ KB\n"
     ]
    }
   ],
   "source": [
    "df.info()"
   ]
  },
  {
   "cell_type": "code",
   "execution_count": 8,
   "metadata": {},
   "outputs": [
    {
     "data": {
      "text/html": [
       "<div>\n",
       "<style scoped>\n",
       "    .dataframe tbody tr th:only-of-type {\n",
       "        vertical-align: middle;\n",
       "    }\n",
       "\n",
       "    .dataframe tbody tr th {\n",
       "        vertical-align: top;\n",
       "    }\n",
       "\n",
       "    .dataframe thead th {\n",
       "        text-align: right;\n",
       "    }\n",
       "</style>\n",
       "<table border=\"1\" class=\"dataframe\">\n",
       "  <thead>\n",
       "    <tr style=\"text-align: right;\">\n",
       "      <th></th>\n",
       "      <th>totalprice</th>\n",
       "      <th>area</th>\n",
       "      <th>zone</th>\n",
       "      <th>category</th>\n",
       "      <th>age</th>\n",
       "      <th>floor</th>\n",
       "      <th>rooms</th>\n",
       "      <th>out</th>\n",
       "      <th>conservation</th>\n",
       "      <th>toilets</th>\n",
       "      <th>garage</th>\n",
       "      <th>elevator</th>\n",
       "      <th>streetcategory</th>\n",
       "      <th>heating</th>\n",
       "      <th>tras</th>\n",
       "      <th>new_conservation</th>\n",
       "    </tr>\n",
       "  </thead>\n",
       "  <tbody>\n",
       "    <tr>\n",
       "      <th>0</th>\n",
       "      <td>228000</td>\n",
       "      <td>7530999756</td>\n",
       "      <td>Z45</td>\n",
       "      <td>4B</td>\n",
       "      <td>33</td>\n",
       "      <td>3</td>\n",
       "      <td>5</td>\n",
       "      <td>E100</td>\n",
       "      <td>2B</td>\n",
       "      <td>1</td>\n",
       "      <td>0</td>\n",
       "      <td>1</td>\n",
       "      <td>S3</td>\n",
       "      <td>3A</td>\n",
       "      <td>0</td>\n",
       "      <td>C</td>\n",
       "    </tr>\n",
       "    <tr>\n",
       "      <th>1</th>\n",
       "      <td>409000</td>\n",
       "      <td>1006500015</td>\n",
       "      <td>Z31</td>\n",
       "      <td>3B</td>\n",
       "      <td>5</td>\n",
       "      <td>7</td>\n",
       "      <td>5</td>\n",
       "      <td>E50</td>\n",
       "      <td>1A</td>\n",
       "      <td>2</td>\n",
       "      <td>1</td>\n",
       "      <td>1</td>\n",
       "      <td>S5</td>\n",
       "      <td>4A</td>\n",
       "      <td>1</td>\n",
       "      <td>A</td>\n",
       "    </tr>\n",
       "    <tr>\n",
       "      <th>2</th>\n",
       "      <td>200000</td>\n",
       "      <td>8887000275</td>\n",
       "      <td>Z52</td>\n",
       "      <td>3A</td>\n",
       "      <td>14</td>\n",
       "      <td>8</td>\n",
       "      <td>5</td>\n",
       "      <td>E50</td>\n",
       "      <td>1A</td>\n",
       "      <td>2</td>\n",
       "      <td>0</td>\n",
       "      <td>1</td>\n",
       "      <td>S2</td>\n",
       "      <td>3A</td>\n",
       "      <td>0</td>\n",
       "      <td>A</td>\n",
       "    </tr>\n",
       "    <tr>\n",
       "      <th>3</th>\n",
       "      <td>180000</td>\n",
       "      <td>6261000061</td>\n",
       "      <td>Z62</td>\n",
       "      <td>4A</td>\n",
       "      <td>41</td>\n",
       "      <td>3</td>\n",
       "      <td>4</td>\n",
       "      <td>E50</td>\n",
       "      <td>2A</td>\n",
       "      <td>1</td>\n",
       "      <td>0</td>\n",
       "      <td>0</td>\n",
       "      <td>S3</td>\n",
       "      <td>1A</td>\n",
       "      <td>0</td>\n",
       "      <td>B</td>\n",
       "    </tr>\n",
       "    <tr>\n",
       "      <th>4</th>\n",
       "      <td>443600</td>\n",
       "      <td>1461499939</td>\n",
       "      <td>Z31</td>\n",
       "      <td>3A</td>\n",
       "      <td>22</td>\n",
       "      <td>6</td>\n",
       "      <td>7</td>\n",
       "      <td>E100</td>\n",
       "      <td>1A</td>\n",
       "      <td>2</td>\n",
       "      <td>0</td>\n",
       "      <td>1</td>\n",
       "      <td>S4</td>\n",
       "      <td>4A</td>\n",
       "      <td>1</td>\n",
       "      <td>A</td>\n",
       "    </tr>\n",
       "  </tbody>\n",
       "</table>\n",
       "</div>"
      ],
      "text/plain": [
       "   totalprice        area zone category  age  floor  rooms   out conservation  \\\n",
       "0      228000  7530999756  Z45       4B   33      3      5  E100           2B   \n",
       "1      409000  1006500015  Z31       3B    5      7      5   E50           1A   \n",
       "2      200000  8887000275  Z52       3A   14      8      5   E50           1A   \n",
       "3      180000  6261000061  Z62       4A   41      3      4   E50           2A   \n",
       "4      443600  1461499939  Z31       3A   22      6      7  E100           1A   \n",
       "\n",
       "   toilets  garage  elevator streetcategory heating  tras new_conservation  \n",
       "0        1       0         1             S3      3A     0                C  \n",
       "1        2       1         1             S5      4A     1                A  \n",
       "2        2       0         1             S2      3A     0                A  \n",
       "3        1       0         0             S3      1A     0                B  \n",
       "4        2       0         1             S4      4A     1                A  "
      ]
     },
     "execution_count": 8,
     "metadata": {},
     "output_type": "execute_result"
    }
   ],
   "source": [
    "#change the totalprice data type to int64\n",
    "df['totalprice'] = df['totalprice'].astype(int)\n",
    "\n",
    "#redefine conservation status\n",
    "df.loc[(df.conservation == '1A'), 'new_conservation'] = 'A'\n",
    "df.loc[(df.conservation == '2A'), 'new_conservation'] = 'B' \n",
    "df.loc[(df.conservation == '2B') | (df.conservation == '3A'), 'new_conservation'] = 'C'\n",
    "\n",
    "df.head()"
   ]
  },
  {
   "cell_type": "markdown",
   "metadata": {},
   "source": [
    "**Summary numerical data**"
   ]
  },
  {
   "cell_type": "markdown",
   "metadata": {},
   "source": [
    "Numerical data in the dataset are totalprice, age, floor, rooms, toilets, garage, elevator, and tras."
   ]
  },
  {
   "cell_type": "code",
   "execution_count": 9,
   "metadata": {},
   "outputs": [],
   "source": [
    "numerik = df[['totalprice', 'age', 'floor', 'rooms', 'toilets', 'garage', 'elevator', 'tras']]"
   ]
  },
  {
   "cell_type": "markdown",
   "metadata": {},
   "source": [
    "To get the mean, median, mode, maximum, minimum, and range of data, you can do the following functions."
   ]
  },
  {
   "cell_type": "code",
   "execution_count": 10,
   "metadata": {},
   "outputs": [],
   "source": [
    "mean = numerik.mean()\n",
    "median = numerik.median()\n",
    "maksimal = numerik.max()\n",
    "minimal = numerik.min()\n",
    "mode = numerik.mode()\n",
    "jangkauan = maksimal - minimal"
   ]
  },
  {
   "cell_type": "markdown",
   "metadata": {},
   "source": [
    "Because the result of the mode is a column-shaped dataframe, it needs to be transposed so that the results can be combined with other calculation results."
   ]
  },
  {
   "cell_type": "code",
   "execution_count": 11,
   "metadata": {},
   "outputs": [],
   "source": [
    "mode = mode.T\n",
    "mode = mode.rename(columns={0:'Modus'})"
   ]
  },
  {
   "cell_type": "markdown",
   "metadata": {},
   "source": [
    "EDA results for numerical data that have been obtained, summarized in the dataframe below."
   ]
  },
  {
   "cell_type": "code",
   "execution_count": 12,
   "metadata": {},
   "outputs": [
    {
     "data": {
      "text/html": [
       "<div>\n",
       "<style scoped>\n",
       "    .dataframe tbody tr th:only-of-type {\n",
       "        vertical-align: middle;\n",
       "    }\n",
       "\n",
       "    .dataframe tbody tr th {\n",
       "        vertical-align: top;\n",
       "    }\n",
       "\n",
       "    .dataframe thead th {\n",
       "        text-align: right;\n",
       "    }\n",
       "</style>\n",
       "<table border=\"1\" class=\"dataframe\">\n",
       "  <thead>\n",
       "    <tr style=\"text-align: right;\">\n",
       "      <th></th>\n",
       "      <th>Mean</th>\n",
       "      <th>Median</th>\n",
       "      <th>Max</th>\n",
       "      <th>Min</th>\n",
       "      <th>Range</th>\n",
       "      <th>Modus</th>\n",
       "    </tr>\n",
       "  </thead>\n",
       "  <tbody>\n",
       "    <tr>\n",
       "      <th>totalprice</th>\n",
       "      <td>281164.38</td>\n",
       "      <td>270000.0</td>\n",
       "      <td>560000</td>\n",
       "      <td>155000</td>\n",
       "      <td>405000</td>\n",
       "      <td>270000</td>\n",
       "    </tr>\n",
       "    <tr>\n",
       "      <th>age</th>\n",
       "      <td>19.82</td>\n",
       "      <td>16.0</td>\n",
       "      <td>118</td>\n",
       "      <td>1</td>\n",
       "      <td>117</td>\n",
       "      <td>11</td>\n",
       "    </tr>\n",
       "    <tr>\n",
       "      <th>floor</th>\n",
       "      <td>4.44</td>\n",
       "      <td>4.0</td>\n",
       "      <td>12</td>\n",
       "      <td>1</td>\n",
       "      <td>11</td>\n",
       "      <td>3</td>\n",
       "    </tr>\n",
       "    <tr>\n",
       "      <th>rooms</th>\n",
       "      <td>4.86</td>\n",
       "      <td>5.0</td>\n",
       "      <td>7</td>\n",
       "      <td>3</td>\n",
       "      <td>4</td>\n",
       "      <td>5</td>\n",
       "    </tr>\n",
       "    <tr>\n",
       "      <th>toilets</th>\n",
       "      <td>1.47</td>\n",
       "      <td>1.0</td>\n",
       "      <td>2</td>\n",
       "      <td>1</td>\n",
       "      <td>1</td>\n",
       "      <td>1</td>\n",
       "    </tr>\n",
       "    <tr>\n",
       "      <th>garage</th>\n",
       "      <td>0.24</td>\n",
       "      <td>0.0</td>\n",
       "      <td>2</td>\n",
       "      <td>0</td>\n",
       "      <td>2</td>\n",
       "      <td>0</td>\n",
       "    </tr>\n",
       "    <tr>\n",
       "      <th>elevator</th>\n",
       "      <td>0.80</td>\n",
       "      <td>1.0</td>\n",
       "      <td>1</td>\n",
       "      <td>0</td>\n",
       "      <td>1</td>\n",
       "      <td>1</td>\n",
       "    </tr>\n",
       "    <tr>\n",
       "      <th>tras</th>\n",
       "      <td>0.81</td>\n",
       "      <td>1.0</td>\n",
       "      <td>2</td>\n",
       "      <td>0</td>\n",
       "      <td>2</td>\n",
       "      <td>1</td>\n",
       "    </tr>\n",
       "  </tbody>\n",
       "</table>\n",
       "</div>"
      ],
      "text/plain": [
       "                 Mean    Median     Max     Min   Range   Modus\n",
       "totalprice  281164.38  270000.0  560000  155000  405000  270000\n",
       "age             19.82      16.0     118       1     117      11\n",
       "floor            4.44       4.0      12       1      11       3\n",
       "rooms            4.86       5.0       7       3       4       5\n",
       "toilets          1.47       1.0       2       1       1       1\n",
       "garage           0.24       0.0       2       0       2       0\n",
       "elevator         0.80       1.0       1       0       1       1\n",
       "tras             0.81       1.0       2       0       2       1"
      ]
     },
     "execution_count": 12,
     "metadata": {},
     "output_type": "execute_result"
    }
   ],
   "source": [
    "column = {'Mean':mean, 'Median':median, 'Max':maksimal, 'Min':minimal, 'Range':jangkauan, 'Modus':mode['Modus']}\n",
    "eda_numerik = pd.DataFrame(column).round(2)\n",
    "eda_numerik"
   ]
  },
  {
   "cell_type": "markdown",
   "metadata": {},
   "source": [
    "**Summary Categorical Data**"
   ]
  },
  {
   "cell_type": "markdown",
   "metadata": {},
   "source": [
    "Categorical data in the dataset are zone, category, out, conservations, streetcategory, and heating."
   ]
  },
  {
   "cell_type": "code",
   "execution_count": 13,
   "metadata": {},
   "outputs": [],
   "source": [
    "kategori = df[['zone', 'category', 'out', 'conservation', 'streetcategory', 'heating']]"
   ]
  },
  {
   "cell_type": "markdown",
   "metadata": {},
   "source": [
    "EDA results for numerical data that have been obtained, summarized in the dataframe below."
   ]
  },
  {
   "cell_type": "code",
   "execution_count": 14,
   "metadata": {},
   "outputs": [
    {
     "data": {
      "text/html": [
       "<div>\n",
       "<style scoped>\n",
       "    .dataframe tbody tr th:only-of-type {\n",
       "        vertical-align: middle;\n",
       "    }\n",
       "\n",
       "    .dataframe tbody tr th {\n",
       "        vertical-align: top;\n",
       "    }\n",
       "\n",
       "    .dataframe thead th {\n",
       "        text-align: right;\n",
       "    }\n",
       "</style>\n",
       "<table border=\"1\" class=\"dataframe\">\n",
       "  <thead>\n",
       "    <tr style=\"text-align: right;\">\n",
       "      <th></th>\n",
       "      <th>zone</th>\n",
       "      <th>category</th>\n",
       "      <th>out</th>\n",
       "      <th>conservation</th>\n",
       "      <th>streetcategory</th>\n",
       "      <th>heating</th>\n",
       "    </tr>\n",
       "  </thead>\n",
       "  <tbody>\n",
       "    <tr>\n",
       "      <th>count</th>\n",
       "      <td>217</td>\n",
       "      <td>217</td>\n",
       "      <td>217</td>\n",
       "      <td>217</td>\n",
       "      <td>217</td>\n",
       "      <td>217</td>\n",
       "    </tr>\n",
       "    <tr>\n",
       "      <th>unique</th>\n",
       "      <td>23</td>\n",
       "      <td>7</td>\n",
       "      <td>4</td>\n",
       "      <td>4</td>\n",
       "      <td>4</td>\n",
       "      <td>4</td>\n",
       "    </tr>\n",
       "    <tr>\n",
       "      <th>top</th>\n",
       "      <td>Z41</td>\n",
       "      <td>3B</td>\n",
       "      <td>E100</td>\n",
       "      <td>1A</td>\n",
       "      <td>S3</td>\n",
       "      <td>3A</td>\n",
       "    </tr>\n",
       "    <tr>\n",
       "      <th>freq</th>\n",
       "      <td>18</td>\n",
       "      <td>77</td>\n",
       "      <td>122</td>\n",
       "      <td>161</td>\n",
       "      <td>107</td>\n",
       "      <td>148</td>\n",
       "    </tr>\n",
       "  </tbody>\n",
       "</table>\n",
       "</div>"
      ],
      "text/plain": [
       "       zone category   out conservation streetcategory heating\n",
       "count   217      217   217          217            217     217\n",
       "unique   23        7     4            4              4       4\n",
       "top     Z41       3B  E100           1A             S3      3A\n",
       "freq     18       77   122          161            107     148"
      ]
     },
     "execution_count": 14,
     "metadata": {},
     "output_type": "execute_result"
    }
   ],
   "source": [
    "kategori.describe()"
   ]
  },
  {
   "cell_type": "markdown",
   "metadata": {},
   "source": [
    "### Data Visualization: Create any kind suitable plot of dataset, it will provide a lot of insight into the problem"
   ]
  },
  {
   "cell_type": "markdown",
   "metadata": {},
   "source": [
    "**Histogram of totalprice**"
   ]
  },
  {
   "cell_type": "code",
   "execution_count": 15,
   "metadata": {},
   "outputs": [
    {
     "data": {
      "image/png": "[encoded data removed]",
      "text/plain": [
       "<Figure size 842.4x595.44 with 1 Axes>"
      ]
     },
     "metadata": {},
     "output_type": "display_data"
    }
   ],
   "source": [
    "sns.set(rc={'figure.figsize':(11.7,8.27)})\n",
    "sns.distplot(df['totalprice'], bins=30)\n",
    "plt.show()"
   ]
  },
  {
   "cell_type": "markdown",
   "metadata": {},
   "source": [
    "The histogram of total prices above tends to be positive skewed. The histogram of total prices above tends to be positive skewed. From this histogram, it can be seen that the total prices of apartments in Victoria are in the range of 200000 - 300000."
   ]
  },
  {
   "cell_type": "markdown",
   "metadata": {},
   "source": [
    "**Scatterplot of totalprice and other numerical data**"
   ]
  },
  {
   "cell_type": "code",
   "execution_count": 16,
   "metadata": {},
   "outputs": [
    {
     "data": {
      "image/png": "[encoded data removed]",
      "text/plain": [
       "<Figure size 1440x360 with 7 Axes>"
      ]
     },
     "metadata": {},
     "output_type": "display_data"
    }
   ],
   "source": [
    "plt.figure(figsize=(20, 5))\n",
    "\n",
    "features = ['age', 'floor', 'rooms', 'toilets', 'garage', 'elevator', 'tras']\n",
    "target = df['totalprice']\n",
    "\n",
    "for i, col in enumerate(features):\n",
    "    plt.subplot(1, len(features) , i+1)\n",
    "    x = df[col]\n",
    "    y = target\n",
    "    plt.scatter(x, y, marker='o')\n",
    "    plt.title(col)\n",
    "    plt.xlabel(col)\n",
    "    plt.ylabel('totalprice')"
   ]
  },
  {
   "cell_type": "markdown",
   "metadata": {},
   "source": [
    "### Variable Selection: Choose the variable and its reason."
   ]
  },
  {
   "cell_type": "code",
   "execution_count": 17,
   "metadata": {},
   "outputs": [],
   "source": [
    "X = df[['age', 'floor', 'rooms', 'toilets', 'garage', 'elevator', 'tras']]\n",
    "Y = df['totalprice']"
   ]
  },
  {
   "cell_type": "code",
   "execution_count": 18,
   "metadata": {},
   "outputs": [
    {
     "name": "stderr",
     "output_type": "stream",
     "text": [
      "C:\\Users\\zumars064124\\AppData\\Local\\Continuum\\anaconda3\\lib\\site-packages\\sklearn\\ensemble\\forest.py:245: FutureWarning: The default value of n_estimators will change from 10 in version 0.20 to 100 in 0.22.\n",
      "  \"10 in version 0.20 to 100 in 0.22.\", FutureWarning)\n"
     ]
    },
    {
     "name": "stdout",
     "output_type": "stream",
     "text": [
      "[0.49582313 0.27784399 0.10490666 0.0130548  0.04387617 0.01513918\n",
      " 0.04935606]\n"
     ]
    },
    {
     "data": {
      "image/png": "[encoded data removed]",
      "text/plain": [
       "<Figure size 842.4x595.44 with 1 Axes>"
      ]
     },
     "metadata": {},
     "output_type": "display_data"
    }
   ],
   "source": [
    "from sklearn.ensemble import ExtraTreesClassifier\n",
    "import matplotlib.pyplot as plt\n",
    "model = ExtraTreesClassifier()\n",
    "model.fit(X,Y)\n",
    "print(model.feature_importances_) #use inbuilt class feature_importances of tree based classifiers\n",
    "#plot graph of feature importances for better visualization\n",
    "feat_importances = pd.Series(model.feature_importances_, index=X.columns)\n",
    "feat_importances.nlargest(10).plot(kind='barh')\n",
    "plt.show()"
   ]
  },
  {
   "cell_type": "markdown",
   "metadata": {},
   "source": [
    "Variables that are used as predictor variables are all numeric data in the dataset. It can be seen in the bar chart above that each of these variables has different levels of significance to the response variable (total price)."
   ]
  },
  {
   "cell_type": "markdown",
   "metadata": {},
   "source": [
    "### Modelling: Create models using Regression Linier"
   ]
  },
  {
   "cell_type": "code",
   "execution_count": 19,
   "metadata": {},
   "outputs": [
    {
     "data": {
      "text/html": [
       "<div>\n",
       "<style scoped>\n",
       "    .dataframe tbody tr th:only-of-type {\n",
       "        vertical-align: middle;\n",
       "    }\n",
       "\n",
       "    .dataframe tbody tr th {\n",
       "        vertical-align: top;\n",
       "    }\n",
       "\n",
       "    .dataframe thead th {\n",
       "        text-align: right;\n",
       "    }\n",
       "</style>\n",
       "<table border=\"1\" class=\"dataframe\">\n",
       "  <thead>\n",
       "    <tr style=\"text-align: right;\">\n",
       "      <th></th>\n",
       "      <th>totalprice</th>\n",
       "      <th>area</th>\n",
       "      <th>zone</th>\n",
       "      <th>category</th>\n",
       "      <th>age</th>\n",
       "      <th>floor</th>\n",
       "      <th>rooms</th>\n",
       "      <th>out</th>\n",
       "      <th>conservation</th>\n",
       "      <th>toilets</th>\n",
       "      <th>garage</th>\n",
       "      <th>elevator</th>\n",
       "      <th>streetcategory</th>\n",
       "      <th>heating</th>\n",
       "      <th>tras</th>\n",
       "      <th>new_conservation</th>\n",
       "    </tr>\n",
       "  </thead>\n",
       "  <tbody>\n",
       "    <tr>\n",
       "      <th>0</th>\n",
       "      <td>228000</td>\n",
       "      <td>7530999756</td>\n",
       "      <td>Z45</td>\n",
       "      <td>4B</td>\n",
       "      <td>33</td>\n",
       "      <td>3</td>\n",
       "      <td>5</td>\n",
       "      <td>E100</td>\n",
       "      <td>2B</td>\n",
       "      <td>1</td>\n",
       "      <td>0</td>\n",
       "      <td>1</td>\n",
       "      <td>S3</td>\n",
       "      <td>3A</td>\n",
       "      <td>0</td>\n",
       "      <td>C</td>\n",
       "    </tr>\n",
       "    <tr>\n",
       "      <th>1</th>\n",
       "      <td>409000</td>\n",
       "      <td>1006500015</td>\n",
       "      <td>Z31</td>\n",
       "      <td>3B</td>\n",
       "      <td>5</td>\n",
       "      <td>7</td>\n",
       "      <td>5</td>\n",
       "      <td>E50</td>\n",
       "      <td>1A</td>\n",
       "      <td>2</td>\n",
       "      <td>1</td>\n",
       "      <td>1</td>\n",
       "      <td>S5</td>\n",
       "      <td>4A</td>\n",
       "      <td>1</td>\n",
       "      <td>A</td>\n",
       "    </tr>\n",
       "    <tr>\n",
       "      <th>2</th>\n",
       "      <td>200000</td>\n",
       "      <td>8887000275</td>\n",
       "      <td>Z52</td>\n",
       "      <td>3A</td>\n",
       "      <td>14</td>\n",
       "      <td>8</td>\n",
       "      <td>5</td>\n",
       "      <td>E50</td>\n",
       "      <td>1A</td>\n",
       "      <td>2</td>\n",
       "      <td>0</td>\n",
       "      <td>1</td>\n",
       "      <td>S2</td>\n",
       "      <td>3A</td>\n",
       "      <td>0</td>\n",
       "      <td>A</td>\n",
       "    </tr>\n",
       "    <tr>\n",
       "      <th>3</th>\n",
       "      <td>180000</td>\n",
       "      <td>6261000061</td>\n",
       "      <td>Z62</td>\n",
       "      <td>4A</td>\n",
       "      <td>41</td>\n",
       "      <td>3</td>\n",
       "      <td>4</td>\n",
       "      <td>E50</td>\n",
       "      <td>2A</td>\n",
       "      <td>1</td>\n",
       "      <td>0</td>\n",
       "      <td>0</td>\n",
       "      <td>S3</td>\n",
       "      <td>1A</td>\n",
       "      <td>0</td>\n",
       "      <td>B</td>\n",
       "    </tr>\n",
       "    <tr>\n",
       "      <th>4</th>\n",
       "      <td>443600</td>\n",
       "      <td>1461499939</td>\n",
       "      <td>Z31</td>\n",
       "      <td>3A</td>\n",
       "      <td>22</td>\n",
       "      <td>6</td>\n",
       "      <td>7</td>\n",
       "      <td>E100</td>\n",
       "      <td>1A</td>\n",
       "      <td>2</td>\n",
       "      <td>0</td>\n",
       "      <td>1</td>\n",
       "      <td>S4</td>\n",
       "      <td>4A</td>\n",
       "      <td>1</td>\n",
       "      <td>A</td>\n",
       "    </tr>\n",
       "  </tbody>\n",
       "</table>\n",
       "</div>"
      ],
      "text/plain": [
       "   totalprice        area zone category  age  floor  rooms   out conservation  \\\n",
       "0      228000  7530999756  Z45       4B   33      3      5  E100           2B   \n",
       "1      409000  1006500015  Z31       3B    5      7      5   E50           1A   \n",
       "2      200000  8887000275  Z52       3A   14      8      5   E50           1A   \n",
       "3      180000  6261000061  Z62       4A   41      3      4   E50           2A   \n",
       "4      443600  1461499939  Z31       3A   22      6      7  E100           1A   \n",
       "\n",
       "   toilets  garage  elevator streetcategory heating  tras new_conservation  \n",
       "0        1       0         1             S3      3A     0                C  \n",
       "1        2       1         1             S5      4A     1                A  \n",
       "2        2       0         1             S2      3A     0                A  \n",
       "3        1       0         0             S3      1A     0                B  \n",
       "4        2       0         1             S4      4A     1                A  "
      ]
     },
     "execution_count": 19,
     "metadata": {},
     "output_type": "execute_result"
    }
   ],
   "source": [
    "df.head()"
   ]
  },
  {
   "cell_type": "markdown",
   "metadata": {},
   "source": [
    "To model data using regression, we need to divide the data into training and testing. This time, we use 70% training data and 30% testing data."
   ]
  },
  {
   "cell_type": "code",
   "execution_count": 20,
   "metadata": {},
   "outputs": [
    {
     "name": "stdout",
     "output_type": "stream",
     "text": [
      "(151, 7)\n",
      "(66, 7)\n",
      "(151,)\n",
      "(66,)\n"
     ]
    }
   ],
   "source": [
    "from sklearn.model_selection import train_test_split\n",
    "\n",
    "X_train, X_test, Y_train, Y_test = train_test_split(X, Y, test_size = 0.3, random_state=5)\n",
    "print(X_train.shape)\n",
    "print(X_test.shape)\n",
    "print(Y_train.shape)\n",
    "print(Y_test.shape)"
   ]
  },
  {
   "cell_type": "code",
   "execution_count": 21,
   "metadata": {},
   "outputs": [
    {
     "data": {
      "text/plain": [
       "LinearRegression(copy_X=True, fit_intercept=True, n_jobs=None, normalize=False)"
      ]
     },
     "execution_count": 21,
     "metadata": {},
     "output_type": "execute_result"
    }
   ],
   "source": [
    "from sklearn.linear_model import LinearRegression\n",
    "\n",
    "lin_model = LinearRegression()\n",
    "lin_model.fit(X_train, Y_train)"
   ]
  },
  {
   "cell_type": "markdown",
   "metadata": {},
   "source": [
    "### Accuracy or Error: Calculate the Error using the helper function from the library, from dataset only"
   ]
  },
  {
   "cell_type": "code",
   "execution_count": 22,
   "metadata": {},
   "outputs": [
    {
     "name": "stdout",
     "output_type": "stream",
     "text": [
      "The model performance for training set\n",
      "--------------------------------------\n",
      "RMSE is 44429.3035510456\n",
      "R2 score is 0.609922507547286\n",
      "\n",
      "\n",
      "The model performance for testing set\n",
      "--------------------------------------\n",
      "RMSE is 36768.19084440737\n",
      "R2 score is 0.6689296304020838\n"
     ]
    }
   ],
   "source": [
    "from sklearn.metrics import mean_squared_error\n",
    "from sklearn.metrics import r2_score\n",
    "# model evaluation for training set\n",
    "y_train_predict = lin_model.predict(X_train)\n",
    "rmse = (np.sqrt(mean_squared_error(Y_train, y_train_predict)))\n",
    "r2 = r2_score(Y_train, y_train_predict)\n",
    "\n",
    "print(\"The model performance for training set\")\n",
    "print(\"--------------------------------------\")\n",
    "print('RMSE is {}'.format(rmse))\n",
    "print('R2 score is {}'.format(r2))\n",
    "print(\"\\n\")\n",
    "\n",
    "# model evaluation for testing set\n",
    "y_test_predict = lin_model.predict(X_test)\n",
    "rmse = (np.sqrt(mean_squared_error(Y_test, y_test_predict)))\n",
    "r2 = r2_score(Y_test, y_test_predict)\n",
    "\n",
    "print(\"The model performance for testing set\")\n",
    "print(\"--------------------------------------\")\n",
    "print('RMSE is {}'.format(rmse))\n",
    "print('R2 score is {}'.format(r2))"
   ]
  },
  {
   "cell_type": "markdown",
   "metadata": {},
   "source": [
    "Based on the above results, it can be concluded that the resulting model is fit because the R ^ 2 score between training and testing is not too far away where R^2 score for training data is 60,99% and R^2 score for testing data is 66,89%.\n",
    "\n",
    "In addition, RMSE for training data is known to be as big as 44429,30 and RMSE for testing data is as big as 36768,1908.\n",
    "\n",
    "R2 score is 66,89% shows that predictor variables are able to explain the total price as much as 66,89%, while 33,11% explained by other variables."
   ]
  }
 ],
 "metadata": {
  "kernelspec": {
   "display_name": "Python 3",
   "language": "python",
   "name": "python3"
  },
  "language_info": {
   "codemirror_mode": {
    "name": "ipython",
    "version": 3
   },
   "file_extension": ".py",
   "mimetype": "text/x-python",
   "name": "python",
   "nbconvert_exporter": "python",
   "pygments_lexer": "ipython3",
   "version": "3.7.3"
  }
 },
 "nbformat": 4,
 "nbformat_minor": 2
}
